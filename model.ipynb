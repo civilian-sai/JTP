from sklearn.preprocessing import StandardScaler
from sklearn.neighbors import NearestNeighbors

def scaling(dataframe):
    scaler = StandardScaler()
    prep_data = scaler.fit_transform(dataframe.iloc[:, 3:12].to_numpy())
    return prep_data, scaler

def nn_alg_predict(prep_data):
    neigh = NearestNeighbors(metric='cosine', algorithm='brute')
    neigh.fit(prep_data)
    return neigh

def filter_data(dataframe, ingredient_filter, max_nutritional_values):
    extracted_data = dataframe.copy()
    for column, maximum in zip(extracted_data.columns[3:12], max_nutritional_values):
        extracted_data = extracted_data[extracted_data[column] < maximum]
    if ingredient_filter is not None:
        for ingredient in ingredient_filter:
            extracted_data = extracted_data[extracted_data['RecipeIngredientParts'].str.contains(ingredient, regex=False)]
    return extracted_data

def recommendation(dataframe, _input, max_nutritional_values, ingredient_filter=None):
    extracted_data = filter_data(dataframe, ingredient_filter, max_nutritional_values)
    prep_data, scaler = scaling(extracted_data)
    neigh = nn_alg_predict(prep_data)
    distances, indices = neigh.kneighbors(_input)
    recommendations = extracted_data.iloc[indices[0]]
    return recommendations

# Example usage:
test_input = extracted_data.iloc[0:1, 3:12].to_numpy()
ingredient_filter = ["egg"]
recommendation(dataset, test_input, max_list, ingredient_filter)
